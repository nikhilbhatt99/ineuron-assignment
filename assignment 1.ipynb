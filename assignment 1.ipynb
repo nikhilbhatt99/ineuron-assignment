{
 "cells": [
  {
   "cell_type": "markdown",
   "id": "d1176ca2",
   "metadata": {},
   "source": [
    "1. In the below elements which of them are values or an expression? eg:- values can be integer or string and expressions will be mathematical operators.\n",
    "* \n",
    "'hello' : value\n",
    "-87.8   : value\n",
    "-       : expression\n",
    "/       : expression\n",
    "+       :expression\t\n",
    "6       :Value\n"
   ]
  },
  {
   "cell_type": "markdown",
   "id": "2b463f23",
   "metadata": {},
   "source": [
    "2. What is the difference between string and variable?\n",
    "\n",
    "ans: a string is type of data while the variable is store of data\n",
    "     string can be written in the \"\" and can also be defined in the function form of str()\n",
    "     while variable has to be assigned and type of variable can be found by using type()"
   ]
  },
  {
   "cell_type": "markdown",
   "id": "36312833",
   "metadata": {},
   "source": [
    "3. Describe three different data types \n",
    "\n",
    "\n",
    "1. interger : it is data type in which there is integer present as a value or it can be also defined in the form of function as int()\n",
    "2. boolian  : it contains boolian value that is either True or False holding value as 1 or 0 respectively it can also be defined using bool() as function\n",
    "3. complex number : it contains the compex data type having both the real and imaginary part for example: 3+4j \n",
    "\n"
   ]
  },
  {
   "cell_type": "markdown",
   "id": "571cf2b6",
   "metadata": {},
   "source": [
    "4. What is an expression made up of? What do all expressions do?\n",
    "\n",
    "an expression is made up of operator and operands and it gives back the value when it is used for resulting differetly with different data type "
   ]
  },
  {
   "cell_type": "markdown",
   "id": "2c4669af",
   "metadata": {},
   "source": [
    "5. This assignment statements, like spam = 10. What is the difference between an expression and a statement?\n",
    "\n",
    "the code that we can evaluate and obtain certail value is called expression while the code that can assign the value to variable in the above case is called statement "
   ]
  },
  {
   "cell_type": "markdown",
   "id": "2e53862b",
   "metadata": {},
   "source": [
    "6. After running the following code, what does the variable bacon contain?\n",
    "bacon = 22\n",
    "bacon + 1\n"
   ]
  },
  {
   "cell_type": "code",
   "execution_count": 2,
   "id": "17d2c19e",
   "metadata": {},
   "outputs": [],
   "source": [
    "bacon =22"
   ]
  },
  {
   "cell_type": "code",
   "execution_count": 4,
   "id": "946f7ce8",
   "metadata": {},
   "outputs": [
    {
     "data": {
      "text/plain": [
       "23"
      ]
     },
     "execution_count": 4,
     "metadata": {},
     "output_type": "execute_result"
    }
   ],
   "source": [
    "bacon+1"
   ]
  },
  {
   "cell_type": "markdown",
   "id": "69905bd6",
   "metadata": {},
   "source": [
    "so bacon will contain 23 as a value "
   ]
  },
  {
   "cell_type": "markdown",
   "id": "dea9955c",
   "metadata": {},
   "source": [
    "7. What should the values of the following two terms be?\n",
    "'spam' + 'spamspam'\n",
    "'spam' * 3\n"
   ]
  },
  {
   "cell_type": "code",
   "execution_count": 5,
   "id": "260cac54",
   "metadata": {},
   "outputs": [
    {
     "data": {
      "text/plain": [
       "'spamspamspam'"
      ]
     },
     "execution_count": 5,
     "metadata": {},
     "output_type": "execute_result"
    }
   ],
   "source": [
    "'spam' + 'spamspam'"
   ]
  },
  {
   "cell_type": "code",
   "execution_count": 6,
   "id": "2091653c",
   "metadata": {},
   "outputs": [
    {
     "data": {
      "text/plain": [
       "'spamspamspam'"
      ]
     },
     "execution_count": 6,
     "metadata": {},
     "output_type": "execute_result"
    }
   ],
   "source": [
    "'spam' * 3"
   ]
  },
  {
   "cell_type": "markdown",
   "id": "2c0455d9",
   "metadata": {},
   "source": [
    " 8. Why is eggs a valid variable name while 100 is invalid?\n",
    "\n",
    "the eggs does not have any fixed value and can be assigned different value while 100 starts and ends with fixed digit value so it can not be changed mathematically"
   ]
  },
  {
   "cell_type": "markdown",
   "id": "4aff3c8e",
   "metadata": {},
   "source": [
    "9. What three functions can be used to get the integer, floating-point number, or string version of a value?\n",
    "\n",
    "int()\n",
    "float()\n",
    "str()\n",
    "\n",
    "this are the three function respectively to ge the value "
   ]
  },
  {
   "cell_type": "markdown",
   "id": "75740ce0",
   "metadata": {},
   "source": [
    "10. Why does this expression cause an error? How can you fix it?\n",
    "'I have eaten ' + 99 + ' burritos.'\n"
   ]
  },
  {
   "cell_type": "code",
   "execution_count": 7,
   "id": "24fbecf6",
   "metadata": {},
   "outputs": [
    {
     "ename": "TypeError",
     "evalue": "can only concatenate str (not \"int\") to str",
     "output_type": "error",
     "traceback": [
      "\u001b[1;31m---------------------------------------------------------------------------\u001b[0m",
      "\u001b[1;31mTypeError\u001b[0m                                 Traceback (most recent call last)",
      "Input \u001b[1;32mIn [7]\u001b[0m, in \u001b[0;36m<cell line: 1>\u001b[1;34m()\u001b[0m\n\u001b[1;32m----> 1\u001b[0m \u001b[38;5;124;43m'\u001b[39;49m\u001b[38;5;124;43mI have eaten \u001b[39;49m\u001b[38;5;124;43m'\u001b[39;49m\u001b[43m \u001b[49m\u001b[38;5;241;43m+\u001b[39;49m\u001b[43m \u001b[49m\u001b[38;5;241;43m99\u001b[39;49m \u001b[38;5;241m+\u001b[39m \u001b[38;5;124m'\u001b[39m\u001b[38;5;124m burritos.\u001b[39m\u001b[38;5;124m'\u001b[39m\n",
      "\u001b[1;31mTypeError\u001b[0m: can only concatenate str (not \"int\") to str"
     ]
    }
   ],
   "source": [
    " 'I have eaten ' + 99 + ' burritos.'"
   ]
  },
  {
   "cell_type": "markdown",
   "id": "1ea1c8a7",
   "metadata": {},
   "source": [
    "the error here states that staring cannot be added with interger in this case the error is shown because the diffenr type of data cannot be always added with simple mathematical operations "
   ]
  },
  {
   "cell_type": "code",
   "execution_count": null,
   "id": "cda7c46e",
   "metadata": {},
   "outputs": [],
   "source": []
  }
 ],
 "metadata": {
  "kernelspec": {
   "display_name": "Python 3 (ipykernel)",
   "language": "python",
   "name": "python3"
  },
  "language_info": {
   "codemirror_mode": {
    "name": "ipython",
    "version": 3
   },
   "file_extension": ".py",
   "mimetype": "text/x-python",
   "name": "python",
   "nbconvert_exporter": "python",
   "pygments_lexer": "ipython3",
   "version": "3.9.12"
  }
 },
 "nbformat": 4,
 "nbformat_minor": 5
}
